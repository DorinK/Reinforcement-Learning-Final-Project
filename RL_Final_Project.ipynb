{
  "nbformat": 4,
  "nbformat_minor": 0,
  "metadata": {
    "colab": {
      "name": "RL-LunaLnder-finalProj.ipynb",
      "provenance": [],
      "include_colab_link": true
    },
    "kernelspec": {
      "name": "python3",
      "display_name": "Python 3"
    }
  },
  "cells": [
    {
      "cell_type": "markdown",
      "metadata": {
        "id": "view-in-github",
        "colab_type": "text"
      },
      "source": [
        "<a href=\"https://colab.research.google.com/github/DorinK/Reinforcement-Learning-Final-Project/blob/main/RL_Final_Project.ipynb\" target=\"_parent\"><img src=\"https://colab.research.google.com/assets/colab-badge.svg\" alt=\"Open In Colab\"/></a>"
      ]
    },
    {
      "cell_type": "markdown",
      "metadata": {
        "id": "HND9HYhOE89T"
      },
      "source": [
        ""
      ]
    },
    {
      "cell_type": "markdown",
      "metadata": {
        "id": "W-cVn8qQKtJq"
      },
      "source": [
        "Based on the following links to create this notebook:\n",
        "\n",
        "https://colab.research.google.com/drive/18LdlDDT87eb8cCTHZsXyS9ksQPzL3i6H\n",
        "\n",
        "https://colab.research.google.com/drive/1tug_bpg8RwrFOI8C6Ed-zo0OgD3yfnWy#scrollTo=bhsj7BTPHepg\n",
        "\n",
        "https://colab.research.google.com/drive/1tug_bpg8RwrFOI8C6Ed-zo0OgD3yfnWy\n",
        "\n",
        "\n",
        "To run Gym, you have to install prerequisites like xvbf,opengl & other python-dev packages using the following codes."
      ]
    },
    {
      "cell_type": "code",
      "metadata": {
        "colab": {
          "base_uri": "https://localhost:8080/"
        },
        "id": "GmtbAjPPKiFw",
        "outputId": "acedb2a6-9b87-4fb1-8fce-034c19c4b621"
      },
      "source": [
        "!sudo apt-get update\n",
        "!pip install gym\n",
        "!apt-get install python-opengl -y\n",
        "!apt install xvfb -y\n",
        "!pip install pyvirtualdisplay\n",
        "!pip install piglet\n",
        "from pyvirtualdisplay import Display\n",
        "display = Display(visible=0, size=(1400, 900))\n",
        "display.start()"
      ],
      "execution_count": null,
      "outputs": [
        {
          "output_type": "stream",
          "name": "stdout",
          "text": [
            "\r0% [Working]\r            \rIgn:1 https://developer.download.nvidia.com/compute/cuda/repos/ubuntu1804/x86_64  InRelease\n",
            "\r0% [Connecting to archive.ubuntu.com (91.189.88.152)] [Connecting to security.u\r                                                                               \rIgn:2 https://developer.download.nvidia.com/compute/machine-learning/repos/ubuntu1804/x86_64  InRelease\n",
            "\r0% [Connecting to archive.ubuntu.com (91.189.88.152)] [Connecting to security.u\r                                                                               \rGet:3 https://developer.download.nvidia.com/compute/cuda/repos/ubuntu1804/x86_64  Release [696 B]\n",
            "\r0% [Connecting to archive.ubuntu.com (91.189.88.152)] [Connecting to security.u\r0% [Connecting to archive.ubuntu.com (91.189.88.152)] [Connecting to security.u\r                                                                               \rGet:4 https://cloud.r-project.org/bin/linux/ubuntu bionic-cran40/ InRelease [3,626 B]\n",
            "\r0% [Connecting to archive.ubuntu.com (91.189.88.152)] [Connecting to security.u\r0% [Connecting to archive.ubuntu.com (91.189.88.152)] [Connecting to security.u\r                                                                               \rHit:5 https://developer.download.nvidia.com/compute/machine-learning/repos/ubuntu1804/x86_64  Release\n",
            "Get:6 https://developer.download.nvidia.com/compute/cuda/repos/ubuntu1804/x86_64  Release.gpg [836 B]\n",
            "Hit:7 http://archive.ubuntu.com/ubuntu bionic InRelease\n",
            "Get:8 https://cloud.r-project.org/bin/linux/ubuntu bionic-cran40/ Packages [76.0 kB]\n",
            "Get:9 http://security.ubuntu.com/ubuntu bionic-security InRelease [88.7 kB]\n",
            "Get:10 http://ppa.launchpad.net/c2d4u.team/c2d4u4.0+/ubuntu bionic InRelease [15.9 kB]\n",
            "Get:12 http://archive.ubuntu.com/ubuntu bionic-updates InRelease [88.7 kB]\n",
            "Get:13 https://developer.download.nvidia.com/compute/cuda/repos/ubuntu1804/x86_64  Packages [872 kB]\n",
            "Hit:14 http://ppa.launchpad.net/cran/libgit2/ubuntu bionic InRelease\n",
            "Get:15 http://archive.ubuntu.com/ubuntu bionic-backports InRelease [74.6 kB]\n",
            "Get:16 http://security.ubuntu.com/ubuntu bionic-security/restricted amd64 Packages [738 kB]\n",
            "Get:17 http://ppa.launchpad.net/deadsnakes/ppa/ubuntu bionic InRelease [15.9 kB]\n",
            "Get:18 http://archive.ubuntu.com/ubuntu bionic-updates/main amd64 Packages [2,954 kB]\n",
            "Hit:19 http://ppa.launchpad.net/graphics-drivers/ppa/ubuntu bionic InRelease\n",
            "Get:20 http://security.ubuntu.com/ubuntu bionic-security/universe amd64 Packages [1,463 kB]\n",
            "Get:21 http://ppa.launchpad.net/c2d4u.team/c2d4u4.0+/ubuntu bionic/main Sources [1,823 kB]\n",
            "Get:22 http://security.ubuntu.com/ubuntu bionic-security/main amd64 Packages [2,516 kB]\n",
            "Get:23 http://archive.ubuntu.com/ubuntu bionic-updates/universe amd64 Packages [2,242 kB]\n",
            "Get:24 http://archive.ubuntu.com/ubuntu bionic-updates/restricted amd64 Packages [771 kB]\n",
            "Get:25 http://ppa.launchpad.net/c2d4u.team/c2d4u4.0+/ubuntu bionic/main amd64 Packages [934 kB]\n",
            "Get:26 http://ppa.launchpad.net/deadsnakes/ppa/ubuntu bionic/main amd64 Packages [45.3 kB]\n",
            "Fetched 14.7 MB in 4s (3,369 kB/s)\n",
            "Reading package lists... Done\n",
            "Requirement already satisfied: gym in /usr/local/lib/python3.7/dist-packages (0.17.3)\n",
            "Requirement already satisfied: numpy>=1.10.4 in /usr/local/lib/python3.7/dist-packages (from gym) (1.19.5)\n",
            "Requirement already satisfied: cloudpickle<1.7.0,>=1.2.0 in /usr/local/lib/python3.7/dist-packages (from gym) (1.3.0)\n",
            "Requirement already satisfied: scipy in /usr/local/lib/python3.7/dist-packages (from gym) (1.4.1)\n",
            "Requirement already satisfied: pyglet<=1.5.0,>=1.4.0 in /usr/local/lib/python3.7/dist-packages (from gym) (1.5.0)\n",
            "Requirement already satisfied: future in /usr/local/lib/python3.7/dist-packages (from pyglet<=1.5.0,>=1.4.0->gym) (0.16.0)\n",
            "Reading package lists... Done\n",
            "Building dependency tree       \n",
            "Reading state information... Done\n",
            "Suggested packages:\n",
            "  libgle3\n",
            "The following NEW packages will be installed:\n",
            "  python-opengl\n",
            "0 upgraded, 1 newly installed, 0 to remove and 62 not upgraded.\n",
            "Need to get 496 kB of archives.\n",
            "After this operation, 5,416 kB of additional disk space will be used.\n",
            "Get:1 http://archive.ubuntu.com/ubuntu bionic/universe amd64 python-opengl all 3.1.0+dfsg-1 [496 kB]\n",
            "Fetched 496 kB in 1s (456 kB/s)\n",
            "Selecting previously unselected package python-opengl.\n",
            "(Reading database ... 155229 files and directories currently installed.)\n",
            "Preparing to unpack .../python-opengl_3.1.0+dfsg-1_all.deb ...\n",
            "Unpacking python-opengl (3.1.0+dfsg-1) ...\n",
            "Setting up python-opengl (3.1.0+dfsg-1) ...\n",
            "Reading package lists... Done\n",
            "Building dependency tree       \n",
            "Reading state information... Done\n",
            "The following NEW packages will be installed:\n",
            "  xvfb\n",
            "0 upgraded, 1 newly installed, 0 to remove and 62 not upgraded.\n",
            "Need to get 784 kB of archives.\n",
            "After this operation, 2,271 kB of additional disk space will be used.\n",
            "Get:1 http://archive.ubuntu.com/ubuntu bionic-updates/universe amd64 xvfb amd64 2:1.19.6-1ubuntu4.10 [784 kB]\n",
            "Fetched 784 kB in 1s (625 kB/s)\n",
            "Selecting previously unselected package xvfb.\n",
            "(Reading database ... 157584 files and directories currently installed.)\n",
            "Preparing to unpack .../xvfb_2%3a1.19.6-1ubuntu4.10_amd64.deb ...\n",
            "Unpacking xvfb (2:1.19.6-1ubuntu4.10) ...\n",
            "Setting up xvfb (2:1.19.6-1ubuntu4.10) ...\n",
            "Processing triggers for man-db (2.8.3-2ubuntu0.1) ...\n",
            "Collecting pyvirtualdisplay\n",
            "  Downloading PyVirtualDisplay-2.2-py3-none-any.whl (15 kB)\n",
            "Collecting EasyProcess\n",
            "  Downloading EasyProcess-1.1-py3-none-any.whl (8.7 kB)\n",
            "Installing collected packages: EasyProcess, pyvirtualdisplay\n",
            "Successfully installed EasyProcess-1.1 pyvirtualdisplay-2.2\n",
            "Collecting piglet\n",
            "  Downloading piglet-1.0.0-py2.py3-none-any.whl (2.2 kB)\n",
            "Collecting piglet-templates\n",
            "  Downloading piglet_templates-1.2.0-py3-none-any.whl (67 kB)\n",
            "\u001b[K     |████████████████████████████████| 67 kB 3.8 MB/s \n",
            "\u001b[?25hRequirement already satisfied: astunparse in /usr/local/lib/python3.7/dist-packages (from piglet-templates->piglet) (1.6.3)\n",
            "Requirement already satisfied: attrs in /usr/local/lib/python3.7/dist-packages (from piglet-templates->piglet) (21.4.0)\n",
            "Requirement already satisfied: markupsafe in /usr/local/lib/python3.7/dist-packages (from piglet-templates->piglet) (2.0.1)\n",
            "Requirement already satisfied: pyparsing in /usr/local/lib/python3.7/dist-packages (from piglet-templates->piglet) (3.0.6)\n",
            "Requirement already satisfied: six<2.0,>=1.6.1 in /usr/local/lib/python3.7/dist-packages (from astunparse->piglet-templates->piglet) (1.15.0)\n",
            "Requirement already satisfied: wheel<1.0,>=0.23.0 in /usr/local/lib/python3.7/dist-packages (from astunparse->piglet-templates->piglet) (0.37.1)\n",
            "Installing collected packages: piglet-templates, piglet\n",
            "Successfully installed piglet-1.0.0 piglet-templates-1.2.0\n"
          ]
        },
        {
          "output_type": "execute_result",
          "data": {
            "text/plain": [
              "<pyvirtualdisplay.display.Display at 0x7f8ec902f9d0>"
            ]
          },
          "metadata": {},
          "execution_count": 1
        }
      ]
    },
    {
      "cell_type": "code",
      "metadata": {
        "id": "Y_hxdz4ALVQ3"
      },
      "source": [
        "# This code creates a virtual display to draw game images on. \n",
        "# If you are running locally, just ignore it\n",
        "import os\n",
        "if type(os.environ.get(\"DISPLAY\")) is not str or len(os.environ.get(\"DISPLAY\"))==0:\n",
        "    !bash ../xvfb start\n",
        "    %env DISPLAY=:1"
      ],
      "execution_count": null,
      "outputs": []
    },
    {
      "cell_type": "code",
      "metadata": {
        "id": "C1GqN0iRLaZk"
      },
      "source": [
        "import gym\n",
        "from gym import logger as gymlogger\n",
        "from gym.wrappers import Monitor\n",
        "gymlogger.set_level(40) # error only\n",
        "import tensorflow as tf\n",
        "import numpy as np\n",
        "import random\n",
        "import matplotlib\n",
        "import matplotlib.pyplot as plt\n",
        "%matplotlib inline\n",
        "import math\n",
        "import glob\n",
        "import io\n",
        "import base64\n",
        "from IPython.display import HTML\n",
        "\n",
        "from IPython import display as ipythondisplay"
      ],
      "execution_count": null,
      "outputs": []
    },
    {
      "cell_type": "code",
      "metadata": {
        "id": "ILbriB_oLn5T"
      },
      "source": [
        "\"\"\"\n",
        "Utility functions to enable video recording of gym environment and displaying it\n",
        "To enable video, just do \"env = wrap_env(env)\"\"\n",
        "\"\"\"\n",
        "\n",
        "def show_video():\n",
        "  mp4list = glob.glob('video/*.mp4')\n",
        "  if len(mp4list) > 0:\n",
        "    mp4 = mp4list[0]\n",
        "    video = io.open(mp4, 'r+b').read()\n",
        "    encoded = base64.b64encode(video)\n",
        "    ipythondisplay.display(HTML(data='''<video alt=\"test\" autoplay \n",
        "                loop controls style=\"height: 400px;\">\n",
        "                <source src=\"data:video/mp4;base64,{0}\" type=\"video/mp4\" />\n",
        "             </video>'''.format(encoded.decode('ascii'))))\n",
        "  else: \n",
        "    print(\"Could not find video\")\n",
        "    \n",
        "\n",
        "def wrap_env(env):\n",
        "  env = Monitor(env, './video', force=True)\n",
        "  return env"
      ],
      "execution_count": null,
      "outputs": []
    },
    {
      "cell_type": "code",
      "metadata": {
        "colab": {
          "base_uri": "https://localhost:8080/"
        },
        "id": "NnR-cqjbLpI4",
        "outputId": "a2bb702c-a7a6-4a1b-d17c-3378854ce707"
      },
      "source": [
        "!pip install gym[box2d]"
      ],
      "execution_count": null,
      "outputs": [
        {
          "output_type": "stream",
          "name": "stdout",
          "text": [
            "Requirement already satisfied: gym[box2d] in /usr/local/lib/python3.7/dist-packages (0.17.3)\n",
            "Requirement already satisfied: pyglet<=1.5.0,>=1.4.0 in /usr/local/lib/python3.7/dist-packages (from gym[box2d]) (1.5.0)\n",
            "Requirement already satisfied: cloudpickle<1.7.0,>=1.2.0 in /usr/local/lib/python3.7/dist-packages (from gym[box2d]) (1.3.0)\n",
            "Requirement already satisfied: scipy in /usr/local/lib/python3.7/dist-packages (from gym[box2d]) (1.4.1)\n",
            "Requirement already satisfied: numpy>=1.10.4 in /usr/local/lib/python3.7/dist-packages (from gym[box2d]) (1.19.5)\n",
            "Collecting box2d-py~=2.3.5\n",
            "  Downloading box2d_py-2.3.8-cp37-cp37m-manylinux1_x86_64.whl (448 kB)\n",
            "\u001b[K     |████████████████████████████████| 448 kB 7.5 MB/s \n",
            "\u001b[?25hRequirement already satisfied: future in /usr/local/lib/python3.7/dist-packages (from pyglet<=1.5.0,>=1.4.0->gym[box2d]) (0.16.0)\n",
            "Installing collected packages: box2d-py\n",
            "Successfully installed box2d-py-2.3.8\n"
          ]
        }
      ]
    },
    {
      "cell_type": "code",
      "metadata": {
        "colab": {
          "base_uri": "https://localhost:8080/",
          "height": 286
        },
        "id": "yCHLYkMkLzcf",
        "outputId": "7c981077-b95b-4949-a13c-d2cca1947d19"
      },
      "source": [
        "# Box2d Environment\n",
        "env = gym.make('LunarLanderContinuous-v2')\n",
        "env.reset()\n",
        "plt.imshow(env.render('rgb_array'))\n"
      ],
      "execution_count": null,
      "outputs": [
        {
          "output_type": "execute_result",
          "data": {
            "text/plain": [
              "<matplotlib.image.AxesImage at 0x7f8e38297c10>"
            ]
          },
          "metadata": {},
          "execution_count": 6
        },
        {
          "output_type": "display_data",
          "data": {
            "image/png": "[encoded data removed]",
            "text/plain": [
              "<Figure size 432x288 with 1 Axes>"
            ]
          },
          "metadata": {
            "needs_background": "light"
          }
        }
      ]
    },
    {
      "cell_type": "code",
      "metadata": {
        "colab": {
          "base_uri": "https://localhost:8080/"
        },
        "id": "Wh4v_3zCRepL",
        "outputId": "2105d53d-7d86-4858-e428-93ef6629bd58"
      },
      "source": [
        "state_size = env.observation_space\n",
        "print(\"state size is:\", state_size)\n",
        "a = env.action_space\n",
        "print(\"action size=\",a) \n",
        "state = env.reset()\n",
        "print(state)   "
      ],
      "execution_count": null,
      "outputs": [
        {
          "output_type": "stream",
          "name": "stdout",
          "text": [
            "state size is: Box(-inf, inf, (8,), float32)\n",
            "action size= Box(-1.0, 1.0, (2,), float32)\n",
            "[-0.00584326  1.4046092  -0.5918823  -0.28049862  0.00677774  0.13407011\n",
            "  0.          0.        ]\n"
          ]
        }
      ]
    },
    {
      "cell_type": "markdown",
      "metadata": {
        "id": "yTfAdl7dSS-K"
      },
      "source": [
        "# Action Space\n",
        "            #is two floats [main engine, left-right engines].\n",
        "            # Main engine: -1..0 off, 0..+1 throttle from 50% to 100% power. Engine can't work with less than 50% power.\n",
        "            # Left-right:  -1.0..-0.5 fire left engine, +0.5..+1.0 fire right engine, -0.5..0.5 off\n",
        "            self.action_space = spaces.Box(-1, +1, (2,), dtype=np.float32)"
      ]
    },
    {
      "cell_type": "code",
      "metadata": {
        "id": "EQaFvJdvM4qX",
        "colab": {
          "base_uri": "https://localhost:8080/"
        },
        "outputId": "9aa1d9b5-a87d-4de4-e45e-09fca510cfce"
      },
      "source": [
        "env = wrap_env(env)\n",
        "done = False\n",
        "iter = 0\n",
        "print(done)\n",
        "state = env.reset()\n",
        "\n",
        "action = 1\n",
        "TotalReward = 0;\n",
        "while not done:\n",
        "  iter +=1\n",
        "  action = env.action_space.sample()\n",
        "  #print(\"action is:\",action)\n",
        "  observation, reward, done, _ = env.step(action)\n",
        "  #print(\"state is:\", observation)\n",
        "\n",
        "  #if you want to see results on real-time 'open' the following 4 lines\n",
        "  #screen = env.render(mode='rgb_array')\n",
        "  #plt.imshow(screen)\n",
        "  #ipythondisplay.clear_output(wait=True)\n",
        "  #ipythondisplay.display(plt.gcf())\n",
        "print(TotalReward)"
      ],
      "execution_count": null,
      "outputs": [
        {
          "output_type": "stream",
          "name": "stdout",
          "text": [
            "False\n",
            "0\n"
          ]
        }
      ]
    },
    {
      "cell_type": "code",
      "metadata": {
        "id": "BzyI3vKZQiR6",
        "colab": {
          "base_uri": "https://localhost:8080/",
          "height": 422
        },
        "outputId": "0eda2475-e696-49bf-bc94-516f7f4a62df"
      },
      "source": [
        "env.close()\n",
        "show_video()"
      ],
      "execution_count": null,
      "outputs": [
        {
          "output_type": "display_data",
          "data": {
            "text/html": [
              "<video alt=\"test\" autoplay \n",
              "                loop controls style=\"height: 400px;\">\n",
              "                <source src=\"data:video/mp4;base64,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\" type=\"video/mp4\" />\n",
              "             </video>"
            ],
            "text/plain": [
              "<IPython.core.display.HTML object>"
            ]
          },
          "metadata": {}
        }
      ]
    },
    {
      "cell_type": "code",
      "metadata": {
        "id": "rY_ve2aViqJa",
        "colab": {
          "base_uri": "https://localhost:8080/"
        },
        "outputId": "8332c0af-156d-4bf1-e172-863ecc105ad4"
      },
      "source": [
        "print(iter)"
      ],
      "execution_count": null,
      "outputs": [
        {
          "output_type": "stream",
          "name": "stdout",
          "text": [
            "88\n"
          ]
        }
      ]
    }
  ]
}